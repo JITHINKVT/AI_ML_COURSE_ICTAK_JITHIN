{
  "nbformat": 4,
  "nbformat_minor": 0,
  "metadata": {
    "colab": {
      "provenance": [],
      "authorship_tag": "ABX9TyMXu7JTL0Lz28rj4SHwTw4b",
      "include_colab_link": true
    },
    "kernelspec": {
      "name": "python3",
      "display_name": "Python 3"
    },
    "language_info": {
      "name": "python"
    }
  },
  "cells": [
    {
      "cell_type": "markdown",
      "metadata": {
        "id": "view-in-github",
        "colab_type": "text"
      },
      "source": [
        "<a href=\"https://colab.research.google.com/github/JITHINKVT/AI_ML_COURSE_ICTAK_JITHIN/blob/main/Manappuram_Python_Assgnt1.ipynb\" target=\"_parent\"><img src=\"https://colab.research.google.com/assets/colab-badge.svg\" alt=\"Open In Colab\"/></a>"
      ]
    },
    {
      "cell_type": "markdown",
      "source": [
        "1. A financial analyst stores monthly revenues in a list: [120000, 135000, 128000,\n",
        "142000, 150000]. Find the difference between the highest and lowest revenue without\n",
        "using loops"
      ],
      "metadata": {
        "id": "59wxYvUI1hZc"
      }
    },
    {
      "cell_type": "code",
      "source": [
        "rev = [120000, 135000, 128000, 142000, 150000]\n",
        "diff = max(rev) - min(rev)\n",
        "print(diff)"
      ],
      "metadata": {
        "colab": {
          "base_uri": "https://localhost:8080/"
        },
        "id": "32Beb_UE1l2n",
        "outputId": "86417b1f-1ffc-4269-ff45-ea245001c57f"
      },
      "execution_count": null,
      "outputs": [
        {
          "output_type": "stream",
          "name": "stdout",
          "text": [
            "30000\n"
          ]
        }
      ]
    },
    {
      "cell_type": "markdown",
      "source": [
        "Ans.)30000"
      ],
      "metadata": {
        "id": "qA_SiTlc2UGQ"
      }
    },
    {
      "cell_type": "markdown",
      "source": [
        "2. Given the tuple account = ('Asha', 'Savings', 56000, 'KCH'), unpack the values into\n",
        "separate variables and print a formatted string: 'Asha has ₹56000 in her Savings\n",
        "account (Branch: KCH)'."
      ],
      "metadata": {
        "id": "Jj_QDQa62jMb"
      }
    },
    {
      "cell_type": "code",
      "source": [
        "acc = ('Asha', 'Savings', 56000, 'KCH')\n",
        "Name = acc[0]\n",
        "Acc_type = acc[1]\n",
        "Bal_amount = acc[2]\n",
        "Br_name = acc[3]\n",
        "print(f'{Name} has ₹{Bal_amount} in her {Acc_type} account (Branch: {Br_name})')"
      ],
      "metadata": {
        "colab": {
          "base_uri": "https://localhost:8080/"
        },
        "id": "-xxO7mxN2rOf",
        "outputId": "7d640238-f59d-4f7f-b739-f23afbf1db6c"
      },
      "execution_count": null,
      "outputs": [
        {
          "output_type": "stream",
          "name": "stdout",
          "text": [
            "Asha has ₹56000 in her Savings account (Branch: KCH)\n"
          ]
        }
      ]
    },
    {
      "cell_type": "markdown",
      "source": [
        "Ans.)Asha has ₹56000 in her Savings account (Branch: KCH)"
      ],
      "metadata": {
        "id": "nu_UDceM3FNh"
      }
    },
    {
      "cell_type": "markdown",
      "source": [
        "3. Convert the list of string numbers ['45000', '56000', '38000'] to integers and find\n",
        "their average balance."
      ],
      "metadata": {
        "id": "YuvaCRRB3Mp4"
      }
    },
    {
      "cell_type": "code",
      "source": [
        "str_num = ['45000', '56000', '38000']\n",
        "int_num = [int(num) for num in str_num]\n",
        "avg_bal = sum(int_num) / len(int_num)\n",
        "print(f\"The average balance is: {avg_bal}\")"
      ],
      "metadata": {
        "colab": {
          "base_uri": "https://localhost:8080/"
        },
        "id": "glADvBRc3V6p",
        "outputId": "56889351-ff09-4bad-81e0-c55568c2bed8"
      },
      "execution_count": null,
      "outputs": [
        {
          "output_type": "stream",
          "name": "stdout",
          "text": [
            "The average balance is: 46333.333333333336\n"
          ]
        }
      ]
    },
    {
      "cell_type": "markdown",
      "source": [
        "Ans.)The average balance is: 46333.333333333336\n"
      ],
      "metadata": {
        "id": "L2RaW1xg4yKW"
      }
    },
    {
      "cell_type": "markdown",
      "source": [
        "4. Create a list with elements: ['Kochi', 'Chennai', 'Mumbai', 'Delhi', 'Pune']. Replace\n",
        "'Delhi' with 'Hyderabad' and print the new list in reverse order using slicing."
      ],
      "metadata": {
        "id": "kKwZNuiO4-Pv"
      }
    },
    {
      "cell_type": "code",
      "source": [
        "city=['Kochi','Chennai','Mumbai','Delhi','Pune']\n",
        "city[-2]='Hyderabad'\n",
        "print(city[::-1])"
      ],
      "metadata": {
        "colab": {
          "base_uri": "https://localhost:8080/"
        },
        "id": "L2v5d_kM5F_x",
        "outputId": "4c3de9bc-4cc4-4a92-edb7-db143b646001"
      },
      "execution_count": null,
      "outputs": [
        {
          "output_type": "stream",
          "name": "stdout",
          "text": [
            "['Pune', 'Hyderabad', 'Mumbai', 'Chennai', 'Kochi']\n"
          ]
        }
      ]
    },
    {
      "cell_type": "markdown",
      "source": [
        "Ans.)['Pune', 'Hyderabad', 'Mumbai', 'Chennai', 'Kochi']"
      ],
      "metadata": {
        "id": "Yv9mhxFc6ey7"
      }
    },
    {
      "cell_type": "markdown",
      "source": [
        "5. You have two tuples: interest_2024 = (7.1, 7.3, 7.2) and interest_2025 = (7.4, 7.5).\n",
        "Combine them and print the average of all interest rates."
      ],
      "metadata": {
        "id": "YcuND1kV6rKO"
      }
    },
    {
      "cell_type": "code",
      "source": [
        "int_2024 = (7.1, 7.3, 7.2)\n",
        "int_2025 = (7.4, 7.5)\n",
        "all_interest = int_2024 + int_2025\n",
        "avg_interest = sum(all_interest) / len(all_interest)\n",
        "print(f\"The average interest rate is: {avg_interest}\")"
      ],
      "metadata": {
        "colab": {
          "base_uri": "https://localhost:8080/"
        },
        "id": "yBRnqhB57FuD",
        "outputId": "05ddd47e-dfa9-47d6-f9d7-0a1d7731f1db"
      },
      "execution_count": null,
      "outputs": [
        {
          "output_type": "stream",
          "name": "stdout",
          "text": [
            "The average interest rate is: 7.3\n"
          ]
        }
      ]
    },
    {
      "cell_type": "markdown",
      "source": [
        "Ans.)The average interest rate is: 7.3"
      ],
      "metadata": {
        "id": "VMC71s7r7lPC"
      }
    },
    {
      "cell_type": "markdown",
      "source": [
        "6. A string variable branch_id = 'TVM-FIN-2025'. Extract the branch code (first three\n",
        "letters) and the year (last four digits)"
      ],
      "metadata": {
        "id": "atLWspOd72xG"
      }
    },
    {
      "cell_type": "code",
      "source": [
        "br_id = 'TVM-FIN-2025'\n",
        "br_code = br_id[:3]\n",
        "year = br_id[-4:]\n",
        "print(f\"Branch Code: {br_code}\")\n",
        "print(f\"Year: {year}\")"
      ],
      "metadata": {
        "colab": {
          "base_uri": "https://localhost:8080/"
        },
        "id": "Xww-GNrj73-L",
        "outputId": "f070ee0e-5339-4892-eb1f-300139923031"
      },
      "execution_count": null,
      "outputs": [
        {
          "output_type": "stream",
          "name": "stdout",
          "text": [
            "Branch Code: TVM\n",
            "Year: 2025\n"
          ]
        }
      ]
    },
    {
      "cell_type": "markdown",
      "source": [
        "Ans.)Branch Code: TVM\n",
        "Year: 2025"
      ],
      "metadata": {
        "id": "qvPooHqB8lgR"
      }
    },
    {
      "cell_type": "markdown",
      "source": [
        "7. Create a list transactions = [10000, -2000, 5000, -1500, 3000]. Without using loops,\n",
        "find total deposits and withdrawals using list slicing or indexing only"
      ],
      "metadata": {
        "id": "BFRmFdgL8xRN"
      }
    },
    {
      "cell_type": "code",
      "source": [
        "t1 = [10000, -2000, 5000, -1500, 3000]\n",
        "total_depo = sum(t1[::2])\n",
        "total_withdraw = sum(t1[1::2])\n",
        "print(f\"Total Deposits: {total_depo}\")\n",
        "print(f\"Total Withdrawals: {total_withdraw}\")\n"
      ],
      "metadata": {
        "colab": {
          "base_uri": "https://localhost:8080/"
        },
        "id": "0Pt0cLhC9g5v",
        "outputId": "1f2dde47-315a-4aca-e6e1-ce4418023061"
      },
      "execution_count": null,
      "outputs": [
        {
          "output_type": "stream",
          "name": "stdout",
          "text": [
            "Total Deposits: 18000\n",
            "Total Withdrawals: -3500\n"
          ]
        }
      ]
    },
    {
      "cell_type": "markdown",
      "source": [
        "Ans.)Total Deposits: 18000\n",
        "Total Withdrawals: -3500"
      ],
      "metadata": {
        "id": "d-O57Xhl-IQZ"
      }
    },
    {
      "cell_type": "markdown",
      "source": [
        "8. Given name = 'John Doe' and balance = 72500, print a message in title case stating\n",
        "'John Doe has a balance of ₹72500'. Ensure no type errors occur."
      ],
      "metadata": {
        "id": "r8dX83rc-QRX"
      }
    },
    {
      "cell_type": "code",
      "source": [
        "name = 'John Doe'\n",
        "balance = 72500\n",
        "print(f\"{name.title()} has a balance of ₹{balance}\")\n"
      ],
      "metadata": {
        "colab": {
          "base_uri": "https://localhost:8080/"
        },
        "id": "wHPgcoXc9mFg",
        "outputId": "4c97ed59-4d30-4390-8265-16eb7dbfd168"
      },
      "execution_count": null,
      "outputs": [
        {
          "output_type": "stream",
          "name": "stdout",
          "text": [
            "John Doe has a balance of ₹72500\n"
          ]
        }
      ]
    },
    {
      "cell_type": "markdown",
      "source": [
        "Ans.)John Doe has a balance of ₹72500"
      ],
      "metadata": {
        "id": "4Z7e97oo-yhl"
      }
    },
    {
      "cell_type": "markdown",
      "source": [
        "9. A tuple customer = ('Kiran', 'Loan', 80000, 7.5). Calculate and print the total amount\n",
        "payable after 1 year if interest is simple interest based on rate 7.5%"
      ],
      "metadata": {
        "id": "JNApsbil-3BS"
      }
    },
    {
      "cell_type": "code",
      "source": [
        "cust = ('Kiran', 'Loan', 80000, 7.5)\n",
        "calc = cust[2] * (1 + (cust[3] / 100))\n",
        "print(f\"The total amount payable after 1 year is: {calc}\")\n"
      ],
      "metadata": {
        "colab": {
          "base_uri": "https://localhost:8080/"
        },
        "id": "4-Psam8F80NM",
        "outputId": "8e2b904a-1c08-42ce-be70-8c26fd572310"
      },
      "execution_count": null,
      "outputs": [
        {
          "output_type": "stream",
          "name": "stdout",
          "text": [
            "The total amount payable after 1 year is: 86000.0\n"
          ]
        }
      ]
    },
    {
      "cell_type": "markdown",
      "source": [
        "Ans.)The total amount payable after 1 year is: 86000.0"
      ],
      "metadata": {
        "id": "wlMA140o_awZ"
      }
    },
    {
      "cell_type": "markdown",
      "source": [
        "10. Create two lists – branches = ['Kochi', 'Chennai', 'Mumbai'] and profits = [120000,\n",
        "95000, 134000]. Form a new list of tuples pairing each branch with its profit"
      ],
      "metadata": {
        "id": "gj4YwtzB_f4n"
      }
    },
    {
      "cell_type": "code",
      "source": [
        "Branch = ['Kochi', 'Chennai', 'Mumbai']\n",
        "Profit = [120000, 95000, 134000]\n",
        "New_list = [(Branch[0], Profit[0]),(Branch[1], Profit[1]),(Branch[2], Profit[2])]\n",
        "print(New_list)"
      ],
      "metadata": {
        "colab": {
          "base_uri": "https://localhost:8080/"
        },
        "id": "eQIQ58TI_moI",
        "outputId": "f37cf32d-3bd7-4e74-d903-7f0352572d62"
      },
      "execution_count": null,
      "outputs": [
        {
          "output_type": "stream",
          "name": "stdout",
          "text": [
            "[('Kochi', 120000), ('Chennai', 95000), ('Mumbai', 134000)]\n"
          ]
        }
      ]
    },
    {
      "cell_type": "markdown",
      "source": [
        "Ans.)[('Kochi', 120000), ('Chennai', 95000), ('Mumbai', 134000)]"
      ],
      "metadata": {
        "id": "Tsnv_l6OAoiV"
      }
    },
    {
      "cell_type": "markdown",
      "source": [
        "11. From a list salaries = [45000, 56000, 38000, 62000, 54000], extract the top three\n",
        "salaries using slicing only."
      ],
      "metadata": {
        "id": "FCftY2WxArLk"
      }
    },
    {
      "cell_type": "code",
      "source": [
        "sal = [45000, 56000, 38000, 62000, 54000]\n",
        "sal.sort()\n",
        "top_three = sal[-3:]\n",
        "print(top_three)"
      ],
      "metadata": {
        "colab": {
          "base_uri": "https://localhost:8080/"
        },
        "id": "voTWG7mNAw7F",
        "outputId": "f6628696-7f96-417c-a58a-3bc4e39e2e4b"
      },
      "execution_count": null,
      "outputs": [
        {
          "output_type": "stream",
          "name": "stdout",
          "text": [
            "[54000, 56000, 62000]\n"
          ]
        }
      ]
    },
    {
      "cell_type": "markdown",
      "source": [
        "Ans.)[54000, 56000, 62000]"
      ],
      "metadata": {
        "id": "NZNeRCFyCHnG"
      }
    },
    {
      "cell_type": "markdown",
      "source": [
        "12. Given the tuple exchange_rates = (83.2, 83.1, 83.5, 83.0, 82.9), convert it into a list\n",
        "and change the third value to 84.0."
      ],
      "metadata": {
        "id": "iiCYjy6iCMC0"
      }
    },
    {
      "cell_type": "code",
      "source": [
        "ex_rate = (83.2, 83.1, 83.5, 83.0, 82.9)\n",
        "l1 = list(ex_rate)\n",
        "l1[2] = 84.0\n",
        "print(l1)\n"
      ],
      "metadata": {
        "colab": {
          "base_uri": "https://localhost:8080/"
        },
        "id": "XkIl9QR5CQhA",
        "outputId": "e9caed5e-b55d-426c-f63c-5f098075fc8b"
      },
      "execution_count": null,
      "outputs": [
        {
          "output_type": "stream",
          "name": "stdout",
          "text": [
            "[83.2, 83.1, 84.0, 83.0, 82.9]\n"
          ]
        }
      ]
    },
    {
      "cell_type": "markdown",
      "source": [
        "Ans.)[83.2, 83.1, 84.0, 83.0, 82.9]"
      ],
      "metadata": {
        "id": "ZqXUkUWqDNnt"
      }
    },
    {
      "cell_type": "markdown",
      "source": [
        "13. Combine two lists customer_names = ['Asha', 'John', 'Meera'] and balances = [56000,\n",
        "72000, 65000] into a formatted string such as 'Asha:56000, John:72000, Meera:65000'\n",
        "without loops"
      ],
      "metadata": {
        "id": "OS5usBA8DUkc"
      }
    },
    {
      "cell_type": "code",
      "source": [
        "cust_name = ['Asha', 'John', 'Meera']\n",
        "bal = [56000,72000, 65000]\n",
        "print(cust_name[0],\":\",bal[0],\" , \",cust_name[1],\":\",bal[1],\" , \",cust_name[2],\":\",bal[2])"
      ],
      "metadata": {
        "colab": {
          "base_uri": "https://localhost:8080/"
        },
        "id": "42f2sHHTDYpW",
        "outputId": "04479e90-5da3-464d-c2d8-5484563b3168"
      },
      "execution_count": null,
      "outputs": [
        {
          "output_type": "stream",
          "name": "stdout",
          "text": [
            "Asha : 56000  ,  John : 72000  ,  Meera : 65000\n"
          ]
        }
      ]
    },
    {
      "cell_type": "markdown",
      "source": [
        "Ans.)Asha : 56000  ,  John : 72000  ,  Meera : 65000"
      ],
      "metadata": {
        "id": "G1jO09fSEcbb"
      }
    },
    {
      "cell_type": "markdown",
      "source": [
        "14. Given account_info = (Deepa, 'Savings', 98000), use string formatting to print a\n",
        "sentence 'Account Holder Deepz has ₹98000 in Savings account"
      ],
      "metadata": {
        "id": "WsGq1yaYEiov"
      }
    },
    {
      "cell_type": "code",
      "source": [
        "acc_holder = ('Deepa', 'Savings', 98000)\n",
        "print(f\"Account Holder {acc_holder[0]} has ₹{acc_holder[2]} in {acc_holder[1]} account\")\n"
      ],
      "metadata": {
        "colab": {
          "base_uri": "https://localhost:8080/"
        },
        "id": "29-wwVgIEnU9",
        "outputId": "6b955c53-864a-4987-85f9-4c9dfb34eeac"
      },
      "execution_count": null,
      "outputs": [
        {
          "output_type": "stream",
          "name": "stdout",
          "text": [
            "Account Holder Deepa has ₹98000 in Savings account\n"
          ]
        }
      ]
    },
    {
      "cell_type": "markdown",
      "source": [
        "Ans.)Account Holder Deepa has ₹98000 in Savings account"
      ],
      "metadata": {
        "id": "_s_6q9K_E7Sc"
      }
    },
    {
      "cell_type": "markdown",
      "source": [
        "15. Create a nested list storing branch names and their monthly collections: [['Kochi',\n",
        "[120000, 135000]], ['Chennai', [95000, 110000]]]. Print only the collection of Chennai\n",
        "branch without using loops."
      ],
      "metadata": {
        "id": "Bh6SUacYE-8p"
      }
    },
    {
      "cell_type": "code",
      "source": [
        "Branch=['Kochi',[12000,135000]],['Chennai',[95000,110000]]\n",
        "C_branch=Branch[1][1]\n",
        "print(f'The collection of chennai branch is {C_branch}')"
      ],
      "metadata": {
        "colab": {
          "base_uri": "https://localhost:8080/"
        },
        "id": "WeL-rv8VFCR2",
        "outputId": "974a93e6-6dd3-4dd9-ad98-f57803d5ad77"
      },
      "execution_count": null,
      "outputs": [
        {
          "output_type": "stream",
          "name": "stdout",
          "text": [
            "The collection of chennai branch is [95000, 110000]\n"
          ]
        }
      ]
    },
    {
      "cell_type": "markdown",
      "source": [
        "Ans.)The collection of chennai branch is [95000, 110000]"
      ],
      "metadata": {
        "id": "xudm8fhVG_9M"
      }
    }
  ]
}